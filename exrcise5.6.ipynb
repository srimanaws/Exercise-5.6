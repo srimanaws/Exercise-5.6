{
 "cells": [
  {
   "cell_type": "code",
   "execution_count": 2,
   "id": "48dad426-5312-4d2d-bbbd-f368635eeea1",
   "metadata": {},
   "outputs": [
    {
     "name": "stdout",
     "output_type": "stream",
     "text": [
      "After 1st rotation: a = 22, b = 1984, c = Doug\n",
      "After 2nd rotation: a = 1984, b = Doug, c = 22\n",
      "After 3rd rotation: a = Doug, b = 22, c = 1984\n"
     ]
    }
   ],
   "source": [
    "# Exercise 5.6 by sriman\n",
    "# Define the rotate function that shuffles the values\n",
    "def rotate(x, y, z):\n",
    "    return (y, z, x)  # The first becomes last, the rest move forward\n",
    "\n",
    "# Set the initial values for a, b, and c\n",
    "a, b, c = 'Doug', 22, 1984\n",
    "\n",
    "# First rotation - values shift around\n",
    "a, b, c = rotate(a, b, c)\n",
    "print(f\"After 1st rotation: a = {a}, b = {b}, c = {c}\")\n",
    "\n",
    "# Second rotation - they shuffle again\n",
    "a, b, c = rotate(a, b, c)\n",
    "print(f\"After 2nd rotation: a = {a}, b = {b}, c = {c}\")\n",
    "\n",
    "# Third rotation - one more shuffle\n",
    "a, b, c = rotate(a, b, c)\n",
    "print(f\"After 3rd rotation: a = {a}, b = {b}, c = {c}\")\n"
   ]
  },
  {
   "cell_type": "code",
   "execution_count": null,
   "id": "30773697-3ddd-4973-b948-7e0181f5b99e",
   "metadata": {},
   "outputs": [],
   "source": []
  }
 ],
 "metadata": {
  "kernelspec": {
   "display_name": "Python 3 (ipykernel)",
   "language": "python",
   "name": "python3"
  },
  "language_info": {
   "codemirror_mode": {
    "name": "ipython",
    "version": 3
   },
   "file_extension": ".py",
   "mimetype": "text/x-python",
   "name": "python",
   "nbconvert_exporter": "python",
   "pygments_lexer": "ipython3",
   "version": "3.12.4"
  }
 },
 "nbformat": 4,
 "nbformat_minor": 5
}
